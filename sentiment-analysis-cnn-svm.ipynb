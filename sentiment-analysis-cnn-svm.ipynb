{
  "cells": [
    {
      "cell_type": "markdown",
      "source": [
        "This code was adapted from the following repositories: \"cnn-svm\" [link to repo](https://github.com/AFAgarap/cnn-svm/blob/master/model/cnn_svm.py), and \"Pytorch Sentiment Analysis\" [link to repo](https://https://github.com/bentrevett/pytorch-sentiment-analysis/blob/master/4%20-%20Convolutional%20Sentiment%20Analysis.ipynb) based on the papers \"Deep Learning using Linear Support Vector Machines\" [(link to paper)](https://arxiv.org/pdf/1306.0239.pdf) and \"Convolutional Neural Networks for Sentence Classification\" [(link to paper)](https://arxiv.org/pdf/1408.5882.pdf)\n",
        "\n"
      ],
      "metadata": {
        "id": "OuC37YK8qq-k"
      }
    },
    {
      "cell_type": "markdown",
      "metadata": {
        "id": "ancUBdHCYsQ4"
      },
      "source": [
        "## Preparing Data"
      ]
    },
    {
      "cell_type": "code",
      "execution_count": null,
      "metadata": {
        "id": "3YiBvzNnYsQ4"
      },
      "outputs": [],
      "source": [
        "import torch\n",
        "from torchtext.legacy import data\n",
        "from torchtext.legacy import datasets\n",
        "import random\n",
        "import numpy as np\n",
        "\n",
        "SEED = 1234\n",
        "\n",
        "random.seed(SEED)\n",
        "np.random.seed(SEED)\n",
        "torch.manual_seed(SEED)\n",
        "torch.backends.cudnn.deterministic = True\n",
        "\n",
        "TEXT = data.Field(tokenize = 'spacy', \n",
        "                  tokenizer_language = 'en_core_web_sm',\n",
        "                  batch_first = True)\n",
        "LABEL = data.LabelField(dtype = torch.float)\n",
        "\n",
        "# Gets train and test datasets from torchtext library\n",
        "train_data, test_data = datasets.IMDB.splits(TEXT, LABEL)\n",
        "\n",
        "# Splits train dataset further into train and validation\n",
        "train_data, valid_data = train_data.split(random_state = random.seed(SEED))"
      ]
    },
    {
      "cell_type": "code",
      "execution_count": null,
      "metadata": {
        "id": "F07CUoutYsQ7",
        "colab": {
          "base_uri": "https://localhost:8080/"
        },
        "outputId": "f4b3a36b-3965-4567-f5c7-d6c9fa4605b4"
      },
      "outputs": [
        {
          "output_type": "stream",
          "name": "stderr",
          "text": [
            ".vector_cache/glove.6B.zip: 862MB [02:41, 5.36MB/s]                           \n",
            "100%|█████████▉| 399999/400000 [00:18<00:00, 22168.48it/s]\n"
          ]
        }
      ],
      "source": [
        "#Build the vocab and load the pre-trained GLoVe embeddings (100-dimension)\n",
        "\n",
        "MAX_VOCAB_SIZE = 25_000\n",
        "\n",
        "TEXT.build_vocab(train_data, \n",
        "                 max_size = MAX_VOCAB_SIZE, \n",
        "                 vectors = \"glove.6B.100d\", \n",
        "                 unk_init = torch.Tensor.normal_)\n",
        "\n",
        "LABEL.build_vocab(train_data)"
      ]
    },
    {
      "cell_type": "code",
      "execution_count": null,
      "metadata": {
        "id": "ETDSvO7FYsQ8"
      },
      "outputs": [],
      "source": [
        "# Create iterators for train, validation, and test datasets\n",
        "\n",
        "BATCH_SIZE = 64\n",
        "\n",
        "device = torch.device('cuda' if torch.cuda.is_available() else 'cpu')\n",
        "\n",
        "train_iterator, valid_iterator, test_iterator = data.BucketIterator.splits(\n",
        "    (train_data, valid_data, test_data), \n",
        "    batch_size = BATCH_SIZE, \n",
        "    device = device)"
      ]
    },
    {
      "cell_type": "markdown",
      "source": [
        "# Creating the Model"
      ],
      "metadata": {
        "id": "xlxozd9lhi20"
      }
    },
    {
      "cell_type": "code",
      "execution_count": null,
      "metadata": {
        "id": "K8FSjlcWYsQ9"
      },
      "outputs": [],
      "source": [
        "import torch.nn as nn\n",
        "import torch.nn.functional as F\n",
        "\n",
        "# CNN Model\n",
        "class CNN(nn.Module):\n",
        "    def __init__(self, vocab_size, embedding_dim, n_filters, filter_sizes, output_dim, \n",
        "                 dropout, pad_idx):\n",
        "        \n",
        "        super().__init__()\n",
        "        \n",
        "        self.embedding = nn.Embedding(vocab_size, embedding_dim, padding_idx = pad_idx)\n",
        "        self.conv_0 = nn.Conv2d(in_channels = 1, out_channels = n_filters, kernel_size = (filter_sizes[0], embedding_dim))\n",
        "        self.conv_1 = nn.Conv2d(in_channels = 1, out_channels = n_filters, kernel_size = (filter_sizes[1], embedding_dim))\n",
        "        self.conv_2 = nn.Conv2d(in_channels = 1, out_channels = n_filters, kernel_size = (filter_sizes[2], embedding_dim))\n",
        "\n",
        "        self.fc = nn.Linear(len(filter_sizes) * n_filters, 100)\n",
        "        self.dropout = nn.Dropout(dropout)\n",
        "        self.readout = nn.Linear(100, output_dim)\n",
        "        \n",
        "    def forward(self, text):\n",
        "        # Input is converted into corresponding GLoVe embeddings\n",
        "        embedded = self.embedding(text)\n",
        "        embedded = embedded.unsqueeze(1)\n",
        "\n",
        "        # Convolutional layers are applied with [3, 4, 5] n-gram filter sizes\n",
        "        conved_0 = F.relu(self.conv_0(embedded).squeeze(3))\n",
        "        conved_1 = F.relu(self.conv_1(embedded).squeeze(3))\n",
        "        conved_2 = F.relu(self.conv_2(embedded).squeeze(3))\n",
        "        \n",
        "        # Output from the convolutional layers are max-pooled and concatenated into a 1D tensor\n",
        "        pooled_0 = F.max_pool1d(conved_0, conved_0.shape[2]).squeeze(2)\n",
        "        pooled_1 = F.max_pool1d(conved_1, conved_1.shape[2]).squeeze(2)\n",
        "        pooled_2 = F.max_pool1d(conved_2, conved_2.shape[2]).squeeze(2)\n",
        "        \n",
        "        cat = torch.cat((pooled_0, pooled_1, pooled_2), dim = 1)\n",
        "\n",
        "        # Dropout is applied on the fully-connected layer\n",
        "        fully_connected = self.dropout(self.fc(cat))\n",
        "\n",
        "        # Readout layer \n",
        "        readout = self.readout(fully_connected)\n",
        "\n",
        "        return readout"
      ]
    },
    {
      "cell_type": "code",
      "execution_count": null,
      "metadata": {
        "id": "bCJlusr1YsRA"
      },
      "outputs": [],
      "source": [
        "INPUT_DIM = len(TEXT.vocab)\n",
        "EMBEDDING_DIM = 100\n",
        "N_FILTERS = 100\n",
        "FILTER_SIZES = [3,4,5]\n",
        "OUTPUT_DIM = 1\n",
        "DROPOUT = 0.5\n",
        "PAD_IDX = TEXT.vocab.stoi[TEXT.pad_token]\n",
        "\n",
        "# Initalize model\n",
        "model = CNN(INPUT_DIM, EMBEDDING_DIM, N_FILTERS, FILTER_SIZES, OUTPUT_DIM, DROPOUT, PAD_IDX)"
      ]
    },
    {
      "cell_type": "code",
      "execution_count": null,
      "metadata": {
        "id": "IVBaWXRoYsRB",
        "outputId": "4766bf8b-5cc8-483c-c819-1d144ede4ce7",
        "colab": {
          "base_uri": "https://localhost:8080/"
        }
      },
      "outputs": [
        {
          "output_type": "execute_result",
          "data": {
            "text/plain": [
              "tensor([[-0.1117, -0.4966,  0.1631,  ...,  1.2647, -0.2753, -0.1325],\n",
              "        [-0.8555, -0.7208,  1.3755,  ...,  0.0825, -1.1314,  0.3997],\n",
              "        [-0.0382, -0.2449,  0.7281,  ..., -0.1459,  0.8278,  0.2706],\n",
              "        ...,\n",
              "        [ 0.5962,  1.2598, -0.0341,  ...,  0.6772, -0.3605,  0.4087],\n",
              "        [ 1.8550,  0.1995,  0.1834,  ..., -0.6174,  1.2545, -0.2427],\n",
              "        [ 0.3357, -0.6065, -0.4592,  ...,  1.0952,  0.2525, -0.7633]])"
            ]
          },
          "metadata": {},
          "execution_count": 7
        }
      ],
      "source": [
        "# Loading GLoVe embeddings into the model\n",
        "\n",
        "pretrained_embeddings = TEXT.vocab.vectors\n",
        "\n",
        "model.embedding.weight.data.copy_(pretrained_embeddings)"
      ]
    },
    {
      "cell_type": "code",
      "execution_count": null,
      "metadata": {
        "id": "lsPgjMHlYsRC"
      },
      "outputs": [],
      "source": [
        "# Zero out the weights of unknown and padding tokens\n",
        "\n",
        "UNK_IDX = TEXT.vocab.stoi[TEXT.unk_token]\n",
        "\n",
        "model.embedding.weight.data[UNK_IDX] = torch.zeros(EMBEDDING_DIM)\n",
        "model.embedding.weight.data[PAD_IDX] = torch.zeros(EMBEDDING_DIM)"
      ]
    },
    {
      "cell_type": "code",
      "source": [
        "# Custom loss function to calculate squared hinge loss\n",
        "class MyHingeLoss(torch.nn.Module):\n",
        "\n",
        "    def __init__(self):\n",
        "        super(MyHingeLoss, self).__init__()\n",
        "\n",
        "    def forward(self, output, target):\n",
        "        # Traditional hinge loss calculation max(0, 1 - y*h(x))\n",
        "        hinge_loss = 1 - torch.mul(output, target)\n",
        "        hinge_loss[hinge_loss < 0] = 0\n",
        "        # Squaring the values\n",
        "        hinge_loss = torch.square(hinge_loss)\n",
        "\n",
        "        return torch.mean(hinge_loss)"
      ],
      "metadata": {
        "id": "1vKEdHDKnhIE"
      },
      "execution_count": null,
      "outputs": []
    },
    {
      "cell_type": "code",
      "execution_count": null,
      "metadata": {
        "id": "hokXFl9HYsRC"
      },
      "outputs": [],
      "source": [
        "# Initialize the optimizer, loss function (criterion) and place the model and criterion on the GPU (if available)\n",
        "\n",
        "import torch.optim as optim\n",
        "\n",
        "optimizer = optim.Adam(model.parameters())\n",
        "\n",
        "criterion = MyHingeLoss()\n",
        "\n",
        "model = model.to(device)\n",
        "criterion = criterion.to(device)"
      ]
    },
    {
      "cell_type": "markdown",
      "metadata": {
        "id": "wZAUe3SxYsRD"
      },
      "source": [
        "We implement the function to calculate accuracy..."
      ]
    },
    {
      "cell_type": "code",
      "execution_count": null,
      "metadata": {
        "id": "TEy01WveYsRD"
      },
      "outputs": [],
      "source": [
        "def binary_accuracy(preds, y):\n",
        "    \"\"\"\n",
        "    Returns accuracy per batch, i.e. if you get 8/10 right, this returns 0.8, NOT 8\n",
        "    \"\"\"\n",
        "    #round predictions to the closest integer\n",
        "    rounded_preds = torch.round(torch.sigmoid(preds))\n",
        "\n",
        "    # since we've changed 0 labels to be -1 (for loss calculation), predictions that are 0 will also be changed to -1\n",
        "    rounded_preds[rounded_preds == 0] = -1\n",
        "    correct = (rounded_preds == y).float() #convert into float for division \n",
        "    acc = correct.sum() / len(correct)\n",
        "    return acc"
      ]
    },
    {
      "cell_type": "markdown",
      "metadata": {
        "id": "i5kznAvNYsRD"
      },
      "source": [
        "We define a function for training our model..."
      ]
    },
    {
      "cell_type": "code",
      "execution_count": null,
      "metadata": {
        "id": "R3-uyJOUYsRD"
      },
      "outputs": [],
      "source": [
        "def train(model, iterator, optimizer, criterion):\n",
        "    \n",
        "    epoch_loss = 0\n",
        "    epoch_acc = 0\n",
        "    \n",
        "    # model.train() ensures that dropout is activated during training iterations\n",
        "    model.train()\n",
        "    \n",
        "    for batch in iterator:\n",
        "        # Converts 0 labels (Negative) to -1 for loss calculation\n",
        "        batch.label[batch.label == 0] = -1\n",
        "        \n",
        "        optimizer.zero_grad()\n",
        "        \n",
        "        # Gets predictions for all reviews in the current batch\n",
        "        predictions = model(batch.text).squeeze(1)\n",
        "\n",
        "        # Gets weights for each layer in the model\n",
        "        layers=[x.data for x in model.parameters()]\n",
        "\n",
        "        # Calculates the l2-norm for weights in the readout layer to maximize margin between support vectors and hyperplane\n",
        "        regularization_loss = sum(p.pow(2.0).sum() for p in layers[-2])\n",
        "\n",
        "        # Calculates loss (simulated L2-SVM)\n",
        "        loss = criterion(predictions, batch.label) + regularization_loss\n",
        "\n",
        "        # Gets accuracy for batch        \n",
        "        acc = binary_accuracy(predictions, batch.label)\n",
        "        \n",
        "        loss.backward()\n",
        "        \n",
        "        optimizer.step()\n",
        "        \n",
        "        epoch_loss += loss.item()\n",
        "        epoch_acc += acc.item()\n",
        "        \n",
        "    return epoch_loss / len(iterator), epoch_acc / len(iterator)"
      ]
    },
    {
      "cell_type": "markdown",
      "metadata": {
        "id": "CNFzzQx-YsRD"
      },
      "source": [
        "We define a function for testing our model..."
      ]
    },
    {
      "cell_type": "code",
      "execution_count": null,
      "metadata": {
        "id": "J5TbIUeAYsRD"
      },
      "outputs": [],
      "source": [
        "def evaluate(model, iterator, criterion):\n",
        "    \n",
        "    epoch_loss = 0\n",
        "    epoch_acc = 0\n",
        "    \n",
        "    # model.eval() ensures that our dropout layer is turned off during validation/testing runs\n",
        "    model.eval()\n",
        "    \n",
        "    # Turns off gradient calculations\n",
        "    with torch.no_grad():\n",
        "    \n",
        "        for batch in iterator:\n",
        "            # Converts 0 labels (Negative) to -1 for loss calculation\n",
        "            batch.label[batch.label == 0] = -1\n",
        "\n",
        "            # Gets predictions for all reviews in the current batch\n",
        "            predictions = model(batch.text).squeeze(1)\n",
        "            \n",
        "            # Gets weights for each layer in the model\n",
        "            layers=[x.data for x in model.parameters()]\n",
        "\n",
        "            # Calculates the l2-norm for weights in the readout layer to maximize margin between support vectors and hyperplane\n",
        "            regularization_loss = sum(p.pow(2.0).sum() for p in layers[-2])\n",
        "\n",
        "            # Calculates loss (simulated L2-SVM)\n",
        "            loss = criterion(predictions, batch.label) + regularization_loss\n",
        "            \n",
        "            # Gets accuracy for batch \n",
        "            acc = binary_accuracy(predictions, batch.label)\n",
        "\n",
        "            epoch_loss += loss.item()\n",
        "            epoch_acc += acc.item()\n",
        "        \n",
        "    return epoch_loss / len(iterator), epoch_acc / len(iterator)"
      ]
    },
    {
      "cell_type": "code",
      "execution_count": null,
      "metadata": {
        "id": "pb4hokT4YsRE"
      },
      "outputs": [],
      "source": [
        "import time\n",
        "\n",
        "# Tracks how long each epoch takes\n",
        "def epoch_time(start_time, end_time):\n",
        "    elapsed_time = end_time - start_time\n",
        "    elapsed_mins = int(elapsed_time / 60)\n",
        "    elapsed_secs = int(elapsed_time - (elapsed_mins * 60))\n",
        "    return elapsed_mins, elapsed_secs"
      ]
    },
    {
      "cell_type": "markdown",
      "metadata": {
        "id": "rU9v9xmPYsRC"
      },
      "source": [
        "## Train the Model"
      ]
    },
    {
      "cell_type": "code",
      "execution_count": null,
      "metadata": {
        "scrolled": true,
        "id": "CkMV4FblYsRE",
        "colab": {
          "base_uri": "https://localhost:8080/"
        },
        "outputId": "95c5f58c-842a-4c34-d9c3-91cdb7bb4452"
      },
      "outputs": [
        {
          "output_type": "stream",
          "name": "stdout",
          "text": [
            "Epoch: 01 | Epoch Time: 14m 54s\n",
            "\tTrain Loss: 1.111 | Train Acc: 64.90%\n",
            "\t Val. Loss: 0.765 |  Val. Acc: 81.27%\n",
            "Epoch: 02 | Epoch Time: 14m 46s\n",
            "\tTrain Loss: 0.665 | Train Acc: 86.25%\n",
            "\t Val. Loss: 0.663 |  Val. Acc: 85.50%\n",
            "Epoch: 03 | Epoch Time: 14m 46s\n",
            "\tTrain Loss: 0.493 | Train Acc: 94.52%\n",
            "\t Val. Loss: 1.027 |  Val. Acc: 81.36%\n",
            "Epoch: 04 | Epoch Time: 14m 55s\n",
            "\tTrain Loss: 0.499 | Train Acc: 98.31%\n",
            "\t Val. Loss: 1.115 |  Val. Acc: 86.07%\n",
            "Epoch: 05 | Epoch Time: 14m 48s\n",
            "\tTrain Loss: 0.568 | Train Acc: 98.96%\n",
            "\t Val. Loss: 1.307 |  Val. Acc: 85.88%\n"
          ]
        }
      ],
      "source": [
        "N_EPOCHS = 5\n",
        "\n",
        "best_valid_loss = float('inf')\n",
        "\n",
        "for epoch in range(N_EPOCHS):\n",
        "\n",
        "    start_time = time.time()\n",
        "    \n",
        "    # Trains the model\n",
        "    train_loss, train_acc = train(model, train_iterator, optimizer, criterion)\n",
        "\n",
        "    # Evaluates on validation data\n",
        "    valid_loss, valid_acc = evaluate(model, valid_iterator, criterion)\n",
        "    \n",
        "    end_time = time.time()\n",
        "\n",
        "    epoch_mins, epoch_secs = epoch_time(start_time, end_time)\n",
        "    \n",
        "    # Saves the best model (based on validation loss)\n",
        "    if valid_loss < best_valid_loss:\n",
        "        best_valid_loss = valid_loss\n",
        "        torch.save(model.state_dict(), 'tut4-model.pt')\n",
        "    \n",
        "    print(f'Epoch: {epoch+1:02} | Epoch Time: {epoch_mins}m {epoch_secs}s')\n",
        "    print(f'\\tTrain Loss: {train_loss:.3f} | Train Acc: {train_acc*100:.2f}%')\n",
        "    print(f'\\t Val. Loss: {valid_loss:.3f} |  Val. Acc: {valid_acc*100:.2f}%')"
      ]
    },
    {
      "cell_type": "markdown",
      "metadata": {
        "id": "YYI37ROlYsRE"
      },
      "source": [
        "Test Results\n"
      ]
    },
    {
      "cell_type": "code",
      "execution_count": null,
      "metadata": {
        "id": "QdlLfuAdYsRE",
        "colab": {
          "base_uri": "https://localhost:8080/"
        },
        "outputId": "fb9d0e7e-1a64-4a36-9fd0-f42497e92a93"
      },
      "outputs": [
        {
          "output_type": "stream",
          "name": "stdout",
          "text": [
            "Test Loss: 1.371 | Test Acc: 84.21%\n"
          ]
        }
      ],
      "source": [
        "# Evaluates the model on test data\n",
        "test_loss, test_acc = evaluate(model, test_iterator, criterion)\n",
        "\n",
        "print(f'Test Loss: {test_loss:.3f} | Test Acc: {test_acc*100:.2f}%')"
      ]
    },
    {
      "cell_type": "markdown",
      "source": [
        "# Plots"
      ],
      "metadata": {
        "id": "cfKrokjcp6pJ"
      }
    },
    {
      "cell_type": "markdown",
      "source": [
        "Train vs validation accuracy for SVM-L2 model"
      ],
      "metadata": {
        "id": "OEgwvmGlY2ul"
      }
    },
    {
      "cell_type": "code",
      "source": [
        "import matplotlib.pyplot as plt\n",
        "train_acc = [64.9, 86.25, 94.52, 98.31, 98.96]\n",
        "val_acc = [81.27, 85.5, 81.36, 86.07, 85.88]\n",
        "train_loss = [1.111, 0.665, 0.493, 0.499, 0.568]\n",
        "val_loss = [0.765, 0.663, 1.027, 1.115, 1.307]\n",
        "plt.title(\"Train vs Validation Accuracy\")\n",
        "n = 5 # number of epochs\n",
        "plt.plot(range(1,n+1), train_acc, label=\"Train\")\n",
        "plt.plot(range(1,n+1), val_acc, label=\"Validation\")\n",
        "plt.xlabel(\"Epoch\")\n",
        "plt.ylabel(\"Accuracy\")\n",
        "plt.legend(loc='best')\n",
        "plt.show()\n",
        "plt.title(\"Train vs Validation Loss\")\n",
        "plt.plot(range(1,n+1), train_loss, label=\"Train\")\n",
        "plt.plot(range(1,n+1), val_loss, label=\"Validation\")\n",
        "plt.xlabel(\"Epoch\")\n",
        "plt.ylabel(\"Loss\")\n",
        "plt.legend(loc='best')\n",
        "plt.show()"
      ],
      "metadata": {
        "colab": {
          "base_uri": "https://localhost:8080/",
          "height": 573
        },
        "id": "jrain_JPYp-N",
        "outputId": "98172f8b-dc0e-4e74-85a7-d3a150965be3"
      },
      "execution_count": null,
      "outputs": [
        {
          "output_type": "display_data",
          "data": {
            "text/plain": [
              "<Figure size 432x288 with 1 Axes>"
            ],
            "image/png": "[encoded data removed]"
          },
          "metadata": {
            "needs_background": "light"
          }
        },
        {
          "output_type": "display_data",
          "data": {
            "text/plain": [
              "<Figure size 432x288 with 1 Axes>"
            ],
            "image/png": "[encoded data removed]"
          },
          "metadata": {
            "needs_background": "light"
          }
        }
      ]
    },
    {
      "cell_type": "markdown",
      "source": [
        "Train vs validation accuracy for softmax model"
      ],
      "metadata": {
        "id": "3ircAY5hYq46"
      }
    },
    {
      "cell_type": "code",
      "source": [
        "import matplotlib.pyplot as plt\n",
        "train_acc = [61.53, 80.34, 87.62, 91.74, 94.11]\n",
        "val_acc = [78.08, 84.19, 85.74, 84.98, 85.18]\n",
        "train_loss = [0.647, 0.426, 0.293, 0.211, 0.155]\n",
        "val_loss = [0.494, 0.373, 0.335, 0.373, 0.388]\n",
        "plt.title(\"Train vs Validation Accuracy\")\n",
        "n = 5 # number of epochs\n",
        "plt.plot(range(1,n+1), train_acc, label=\"Train\")\n",
        "plt.plot(range(1,n+1), val_acc, label=\"Validation\")\n",
        "plt.xlabel(\"Epoch\")\n",
        "plt.ylabel(\"Accuracy\")\n",
        "plt.legend(loc='best')\n",
        "plt.show()\n",
        "plt.title(\"Train vs Validation Loss\")\n",
        "plt.plot(range(1,n+1), train_loss, label=\"Train\")\n",
        "plt.plot(range(1,n+1), val_loss, label=\"Validation\")\n",
        "plt.xlabel(\"Epoch\")\n",
        "plt.ylabel(\"Loss\")\n",
        "plt.legend(loc='best')\n",
        "plt.show()"
      ],
      "metadata": {
        "colab": {
          "base_uri": "https://localhost:8080/",
          "height": 573
        },
        "id": "TA-11XQlY05J",
        "outputId": "f064357a-f4ab-4565-9686-d1bc22083bb2"
      },
      "execution_count": null,
      "outputs": [
        {
          "output_type": "display_data",
          "data": {
            "text/plain": [
              "<Figure size 432x288 with 1 Axes>"
            ],
            "image/png": "[encoded data removed]"
          },
          "metadata": {
            "needs_background": "light"
          }
        },
        {
          "output_type": "display_data",
          "data": {
            "text/plain": [
              "<Figure size 432x288 with 1 Axes>"
            ],
            "image/png": "[encoded data removed]"
          },
          "metadata": {
            "needs_background": "light"
          }
        }
      ]
    }
  ],
  "metadata": {
    "kernelspec": {
      "display_name": "Python 3",
      "language": "python",
      "name": "python3"
    },
    "language_info": {
      "codemirror_mode": {
        "name": "ipython",
        "version": 3
      },
      "file_extension": ".py",
      "mimetype": "text/x-python",
      "name": "python",
      "nbconvert_exporter": "python",
      "pygments_lexer": "ipython3",
      "version": "3.8.5"
    },
    "colab": {
      "name": "CNN-SVM model.ipynb",
      "provenance": [],
      "collapsed_sections": []
    }
  },
  "nbformat": 4,
  "nbformat_minor": 0
}